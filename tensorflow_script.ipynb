{
 "cells": [
  {
   "cell_type": "markdown",
   "metadata": {},
   "source": [
    "# Tensorflow (No Keras!) Implementation\n",
    "Documentation: https://www.tensorflow.org/api_docs/python/tf"
   ]
  },
  {
   "cell_type": "code",
   "execution_count": 14,
   "metadata": {},
   "outputs": [
    {
     "name": "stdout",
     "output_type": "stream",
     "text": [
      "Requirement already satisfied: tensorflow in c:\\users\\sensunit\\documents\\github\\comparrison-pytorch-tensorflow-keras\\.conda\\lib\\site-packages (2.16.1)\n",
      "Requirement already satisfied: tensorflow-datasets in c:\\users\\sensunit\\documents\\github\\comparrison-pytorch-tensorflow-keras\\.conda\\lib\\site-packages (4.9.4)\n",
      "Requirement already satisfied: tensorflow-intel==2.16.1 in c:\\users\\sensunit\\documents\\github\\comparrison-pytorch-tensorflow-keras\\.conda\\lib\\site-packages (from tensorflow) (2.16.1)\n",
      "Requirement already satisfied: absl-py>=1.0.0 in c:\\users\\sensunit\\documents\\github\\comparrison-pytorch-tensorflow-keras\\.conda\\lib\\site-packages (from tensorflow-intel==2.16.1->tensorflow) (2.1.0)\n",
      "Requirement already satisfied: astunparse>=1.6.0 in c:\\users\\sensunit\\documents\\github\\comparrison-pytorch-tensorflow-keras\\.conda\\lib\\site-packages (from tensorflow-intel==2.16.1->tensorflow) (1.6.3)\n",
      "Requirement already satisfied: flatbuffers>=23.5.26 in c:\\users\\sensunit\\documents\\github\\comparrison-pytorch-tensorflow-keras\\.conda\\lib\\site-packages (from tensorflow-intel==2.16.1->tensorflow) (24.3.25)\n",
      "Requirement already satisfied: gast!=0.5.0,!=0.5.1,!=0.5.2,>=0.2.1 in c:\\users\\sensunit\\documents\\github\\comparrison-pytorch-tensorflow-keras\\.conda\\lib\\site-packages (from tensorflow-intel==2.16.1->tensorflow) (0.5.4)\n",
      "Requirement already satisfied: google-pasta>=0.1.1 in c:\\users\\sensunit\\documents\\github\\comparrison-pytorch-tensorflow-keras\\.conda\\lib\\site-packages (from tensorflow-intel==2.16.1->tensorflow) (0.2.0)\n",
      "Requirement already satisfied: h5py>=3.10.0 in c:\\users\\sensunit\\documents\\github\\comparrison-pytorch-tensorflow-keras\\.conda\\lib\\site-packages (from tensorflow-intel==2.16.1->tensorflow) (3.11.0)\n",
      "Requirement already satisfied: libclang>=13.0.0 in c:\\users\\sensunit\\documents\\github\\comparrison-pytorch-tensorflow-keras\\.conda\\lib\\site-packages (from tensorflow-intel==2.16.1->tensorflow) (18.1.1)\n",
      "Requirement already satisfied: ml-dtypes~=0.3.1 in c:\\users\\sensunit\\documents\\github\\comparrison-pytorch-tensorflow-keras\\.conda\\lib\\site-packages (from tensorflow-intel==2.16.1->tensorflow) (0.3.2)\n",
      "Requirement already satisfied: opt-einsum>=2.3.2 in c:\\users\\sensunit\\documents\\github\\comparrison-pytorch-tensorflow-keras\\.conda\\lib\\site-packages (from tensorflow-intel==2.16.1->tensorflow) (3.3.0)\n",
      "Requirement already satisfied: packaging in c:\\users\\sensunit\\documents\\github\\comparrison-pytorch-tensorflow-keras\\.conda\\lib\\site-packages (from tensorflow-intel==2.16.1->tensorflow) (24.0)\n",
      "Requirement already satisfied: protobuf!=4.21.0,!=4.21.1,!=4.21.2,!=4.21.3,!=4.21.4,!=4.21.5,<5.0.0dev,>=3.20.3 in c:\\users\\sensunit\\documents\\github\\comparrison-pytorch-tensorflow-keras\\.conda\\lib\\site-packages (from tensorflow-intel==2.16.1->tensorflow) (4.25.3)\n",
      "Requirement already satisfied: requests<3,>=2.21.0 in c:\\users\\sensunit\\documents\\github\\comparrison-pytorch-tensorflow-keras\\.conda\\lib\\site-packages (from tensorflow-intel==2.16.1->tensorflow) (2.31.0)\n",
      "Requirement already satisfied: setuptools in c:\\users\\sensunit\\documents\\github\\comparrison-pytorch-tensorflow-keras\\.conda\\lib\\site-packages (from tensorflow-intel==2.16.1->tensorflow) (68.2.2)\n",
      "Requirement already satisfied: six>=1.12.0 in c:\\users\\sensunit\\documents\\github\\comparrison-pytorch-tensorflow-keras\\.conda\\lib\\site-packages (from tensorflow-intel==2.16.1->tensorflow) (1.16.0)\n",
      "Requirement already satisfied: termcolor>=1.1.0 in c:\\users\\sensunit\\documents\\github\\comparrison-pytorch-tensorflow-keras\\.conda\\lib\\site-packages (from tensorflow-intel==2.16.1->tensorflow) (2.4.0)\n",
      "Requirement already satisfied: typing-extensions>=3.6.6 in c:\\users\\sensunit\\documents\\github\\comparrison-pytorch-tensorflow-keras\\.conda\\lib\\site-packages (from tensorflow-intel==2.16.1->tensorflow) (4.11.0)\n",
      "Requirement already satisfied: wrapt>=1.11.0 in c:\\users\\sensunit\\documents\\github\\comparrison-pytorch-tensorflow-keras\\.conda\\lib\\site-packages (from tensorflow-intel==2.16.1->tensorflow) (1.16.0)\n",
      "Requirement already satisfied: grpcio<2.0,>=1.24.3 in c:\\users\\sensunit\\documents\\github\\comparrison-pytorch-tensorflow-keras\\.conda\\lib\\site-packages (from tensorflow-intel==2.16.1->tensorflow) (1.62.2)\n",
      "Requirement already satisfied: tensorboard<2.17,>=2.16 in c:\\users\\sensunit\\documents\\github\\comparrison-pytorch-tensorflow-keras\\.conda\\lib\\site-packages (from tensorflow-intel==2.16.1->tensorflow) (2.16.2)\n",
      "Requirement already satisfied: keras>=3.0.0 in c:\\users\\sensunit\\documents\\github\\comparrison-pytorch-tensorflow-keras\\.conda\\lib\\site-packages (from tensorflow-intel==2.16.1->tensorflow) (3.3.2)\n",
      "Requirement already satisfied: tensorflow-io-gcs-filesystem>=0.23.1 in c:\\users\\sensunit\\documents\\github\\comparrison-pytorch-tensorflow-keras\\.conda\\lib\\site-packages (from tensorflow-intel==2.16.1->tensorflow) (0.31.0)\n",
      "Requirement already satisfied: numpy<2.0.0,>=1.23.5 in c:\\users\\sensunit\\documents\\github\\comparrison-pytorch-tensorflow-keras\\.conda\\lib\\site-packages (from tensorflow-intel==2.16.1->tensorflow) (1.26.4)\n",
      "Requirement already satisfied: click in c:\\users\\sensunit\\documents\\github\\comparrison-pytorch-tensorflow-keras\\.conda\\lib\\site-packages (from tensorflow-datasets) (8.1.7)\n",
      "Requirement already satisfied: dm-tree in c:\\users\\sensunit\\documents\\github\\comparrison-pytorch-tensorflow-keras\\.conda\\lib\\site-packages (from tensorflow-datasets) (0.1.8)\n",
      "Requirement already satisfied: etils>=0.9.0 in c:\\users\\sensunit\\documents\\github\\comparrison-pytorch-tensorflow-keras\\.conda\\lib\\site-packages (from etils[enp,epath,etree]>=0.9.0->tensorflow-datasets) (1.8.0)\n",
      "Requirement already satisfied: promise in c:\\users\\sensunit\\documents\\github\\comparrison-pytorch-tensorflow-keras\\.conda\\lib\\site-packages (from tensorflow-datasets) (2.3)\n",
      "Requirement already satisfied: psutil in c:\\users\\sensunit\\documents\\github\\comparrison-pytorch-tensorflow-keras\\.conda\\lib\\site-packages (from tensorflow-datasets) (5.9.0)\n",
      "Requirement already satisfied: tensorflow-metadata in c:\\users\\sensunit\\documents\\github\\comparrison-pytorch-tensorflow-keras\\.conda\\lib\\site-packages (from tensorflow-datasets) (1.15.0)\n",
      "Requirement already satisfied: toml in c:\\users\\sensunit\\documents\\github\\comparrison-pytorch-tensorflow-keras\\.conda\\lib\\site-packages (from tensorflow-datasets) (0.10.2)\n",
      "Requirement already satisfied: tqdm in c:\\users\\sensunit\\documents\\github\\comparrison-pytorch-tensorflow-keras\\.conda\\lib\\site-packages (from tensorflow-datasets) (4.66.2)\n",
      "Requirement already satisfied: fsspec in c:\\users\\sensunit\\documents\\github\\comparrison-pytorch-tensorflow-keras\\.conda\\lib\\site-packages (from etils[enp,epath,etree]>=0.9.0->tensorflow-datasets) (2024.3.1)\n",
      "Requirement already satisfied: importlib_resources in c:\\users\\sensunit\\documents\\github\\comparrison-pytorch-tensorflow-keras\\.conda\\lib\\site-packages (from etils[enp,epath,etree]>=0.9.0->tensorflow-datasets) (6.4.0)\n",
      "Requirement already satisfied: zipp in c:\\users\\sensunit\\documents\\github\\comparrison-pytorch-tensorflow-keras\\.conda\\lib\\site-packages (from etils[enp,epath,etree]>=0.9.0->tensorflow-datasets) (3.17.0)\n",
      "Requirement already satisfied: charset-normalizer<4,>=2 in c:\\users\\sensunit\\documents\\github\\comparrison-pytorch-tensorflow-keras\\.conda\\lib\\site-packages (from requests<3,>=2.21.0->tensorflow-intel==2.16.1->tensorflow) (3.3.2)\n",
      "Requirement already satisfied: idna<4,>=2.5 in c:\\users\\sensunit\\documents\\github\\comparrison-pytorch-tensorflow-keras\\.conda\\lib\\site-packages (from requests<3,>=2.21.0->tensorflow-intel==2.16.1->tensorflow) (3.7)\n",
      "Requirement already satisfied: urllib3<3,>=1.21.1 in c:\\users\\sensunit\\documents\\github\\comparrison-pytorch-tensorflow-keras\\.conda\\lib\\site-packages (from requests<3,>=2.21.0->tensorflow-intel==2.16.1->tensorflow) (2.2.1)\n",
      "Requirement already satisfied: certifi>=2017.4.17 in c:\\users\\sensunit\\documents\\github\\comparrison-pytorch-tensorflow-keras\\.conda\\lib\\site-packages (from requests<3,>=2.21.0->tensorflow-intel==2.16.1->tensorflow) (2024.2.2)\n",
      "Requirement already satisfied: colorama in c:\\users\\sensunit\\documents\\github\\comparrison-pytorch-tensorflow-keras\\.conda\\lib\\site-packages (from click->tensorflow-datasets) (0.4.6)\n",
      "Requirement already satisfied: googleapis-common-protos<2,>=1.56.4 in c:\\users\\sensunit\\documents\\github\\comparrison-pytorch-tensorflow-keras\\.conda\\lib\\site-packages (from tensorflow-metadata->tensorflow-datasets) (1.63.0)\n",
      "Requirement already satisfied: wheel<1.0,>=0.23.0 in c:\\users\\sensunit\\documents\\github\\comparrison-pytorch-tensorflow-keras\\.conda\\lib\\site-packages (from astunparse>=1.6.0->tensorflow-intel==2.16.1->tensorflow) (0.41.2)\n",
      "Requirement already satisfied: rich in c:\\users\\sensunit\\documents\\github\\comparrison-pytorch-tensorflow-keras\\.conda\\lib\\site-packages (from keras>=3.0.0->tensorflow-intel==2.16.1->tensorflow) (13.7.1)\n",
      "Requirement already satisfied: namex in c:\\users\\sensunit\\documents\\github\\comparrison-pytorch-tensorflow-keras\\.conda\\lib\\site-packages (from keras>=3.0.0->tensorflow-intel==2.16.1->tensorflow) (0.0.8)\n",
      "Requirement already satisfied: optree in c:\\users\\sensunit\\documents\\github\\comparrison-pytorch-tensorflow-keras\\.conda\\lib\\site-packages (from keras>=3.0.0->tensorflow-intel==2.16.1->tensorflow) (0.11.0)\n",
      "Requirement already satisfied: markdown>=2.6.8 in c:\\users\\sensunit\\documents\\github\\comparrison-pytorch-tensorflow-keras\\.conda\\lib\\site-packages (from tensorboard<2.17,>=2.16->tensorflow-intel==2.16.1->tensorflow) (3.6)\n",
      "Requirement already satisfied: tensorboard-data-server<0.8.0,>=0.7.0 in c:\\users\\sensunit\\documents\\github\\comparrison-pytorch-tensorflow-keras\\.conda\\lib\\site-packages (from tensorboard<2.17,>=2.16->tensorflow-intel==2.16.1->tensorflow) (0.7.2)\n",
      "Requirement already satisfied: werkzeug>=1.0.1 in c:\\users\\sensunit\\documents\\github\\comparrison-pytorch-tensorflow-keras\\.conda\\lib\\site-packages (from tensorboard<2.17,>=2.16->tensorflow-intel==2.16.1->tensorflow) (3.0.2)\n",
      "Requirement already satisfied: MarkupSafe>=2.1.1 in c:\\users\\sensunit\\documents\\github\\comparrison-pytorch-tensorflow-keras\\.conda\\lib\\site-packages (from werkzeug>=1.0.1->tensorboard<2.17,>=2.16->tensorflow-intel==2.16.1->tensorflow) (2.1.5)\n",
      "Requirement already satisfied: markdown-it-py>=2.2.0 in c:\\users\\sensunit\\documents\\github\\comparrison-pytorch-tensorflow-keras\\.conda\\lib\\site-packages (from rich->keras>=3.0.0->tensorflow-intel==2.16.1->tensorflow) (3.0.0)\n",
      "Requirement already satisfied: pygments<3.0.0,>=2.13.0 in c:\\users\\sensunit\\documents\\github\\comparrison-pytorch-tensorflow-keras\\.conda\\lib\\site-packages (from rich->keras>=3.0.0->tensorflow-intel==2.16.1->tensorflow) (2.17.2)\n",
      "Requirement already satisfied: mdurl~=0.1 in c:\\users\\sensunit\\documents\\github\\comparrison-pytorch-tensorflow-keras\\.conda\\lib\\site-packages (from markdown-it-py>=2.2.0->rich->keras>=3.0.0->tensorflow-intel==2.16.1->tensorflow) (0.1.2)\n",
      "Note: you may need to restart the kernel to use updated packages.\n"
     ]
    }
   ],
   "source": [
    "# Install dependencies\n",
    "!pip install tensorflow tensorflow-datasets"
   ]
  },
  {
   "cell_type": "code",
   "execution_count": 16,
   "metadata": {},
   "outputs": [],
   "source": [
    "import tensorflow as tf\n",
    "import tensorflow_datasets as tfds"
   ]
  },
  {
   "cell_type": "code",
   "execution_count": 17,
   "metadata": {},
   "outputs": [],
   "source": [
    "# Load MNIST data using TensorFlow Datasets\n",
    "ds_train, ds_test = tfds.load('mnist', split=['train', 'test'], as_supervised=True, shuffle_files=True)"
   ]
  },
  {
   "cell_type": "code",
   "execution_count": 18,
   "metadata": {},
   "outputs": [],
   "source": [
    "# Hyperparameters\n",
    "learning_rate = 0.001\n",
    "batch_size = 32\n",
    "epochs = 10"
   ]
  },
  {
   "cell_type": "code",
   "execution_count": 19,
   "metadata": {},
   "outputs": [],
   "source": [
    "# Normalize the images and prepare the datasets\n",
    "def normalize_img(image, label):\n",
    "    return tf.cast(image, tf.float32) / 255.0, label\n",
    "\n",
    "train_data = ds_train.map(normalize_img).shuffle(10000).batch(batch_size)\n",
    "test_data = ds_test.map(normalize_img).batch(batch_size)"
   ]
  },
  {
   "cell_type": "code",
   "execution_count": 20,
   "metadata": {},
   "outputs": [],
   "source": [
    "# Define the model using low-level TensorFlow operations\n",
    "class SimpleNN(tf.Module):\n",
    "    def __init__(self):\n",
    "        # Initialize weights and biases\n",
    "        self.weights1 = tf.Variable(tf.random.normal([784, 128], stddev=0.1))\n",
    "        self.biases1 = tf.Variable(tf.zeros([128]))\n",
    "        self.weights2 = tf.Variable(tf.random.normal([128, 10], stddev=0.1))\n",
    "        self.biases2 = tf.Variable(tf.zeros([10]))\n",
    "\n",
    "    def __call__(self, x):\n",
    "        x = tf.reshape(x, [-1, 784])  # Flatten the image\n",
    "        x = tf.add(tf.matmul(x, self.weights1), self.biases1)\n",
    "        x = tf.nn.relu(x)\n",
    "        x = tf.add(tf.matmul(x, self.weights2), self.biases2)\n",
    "        return x\n",
    "\n",
    "model = SimpleNN()"
   ]
  },
  {
   "cell_type": "code",
   "execution_count": 21,
   "metadata": {},
   "outputs": [],
   "source": [
    "# Define loss function\n",
    "def loss_fn(logits, labels):\n",
    "    return tf.reduce_mean(tf.nn.sparse_softmax_cross_entropy_with_logits(logits=logits, labels=labels))"
   ]
  },
  {
   "cell_type": "code",
   "execution_count": 22,
   "metadata": {},
   "outputs": [],
   "source": [
    "# Define optimizer\n",
    "optimizer = tf.optimizers.Adam(learning_rate)"
   ]
  },
  {
   "cell_type": "code",
   "execution_count": 23,
   "metadata": {},
   "outputs": [
    {
     "name": "stdout",
     "output_type": "stream",
     "text": [
      "Epoch 1, Loss: 0.21739478409290314\n",
      "Epoch 2, Loss: 0.24804949760437012\n",
      "Epoch 3, Loss: 0.10593440383672714\n",
      "Epoch 4, Loss: 0.036454398185014725\n",
      "Epoch 5, Loss: 0.00372866028919816\n",
      "Epoch 6, Loss: 0.007430126890540123\n",
      "Epoch 7, Loss: 0.0308841485530138\n",
      "Epoch 8, Loss: 0.005525527987629175\n",
      "Epoch 9, Loss: 0.000722321798093617\n",
      "Epoch 10, Loss: 0.02371489815413952\n"
     ]
    }
   ],
   "source": [
    "# Training function\n",
    "def train_step(images, labels):\n",
    "    with tf.GradientTape() as tape:\n",
    "        logits = model(images)\n",
    "        loss = loss_fn(logits, labels)\n",
    "    gradients = tape.gradient(loss, model.trainable_variables)\n",
    "    optimizer.apply_gradients(zip(gradients, model.trainable_variables))\n",
    "    return loss\n",
    "\n",
    "# Training loop\n",
    "for epoch in range(epochs):\n",
    "    for images, labels in train_data:\n",
    "        loss = train_step(images, labels)\n",
    "    print(f'Epoch {epoch + 1}, Loss: {loss.numpy()}')"
   ]
  },
  {
   "cell_type": "code",
   "execution_count": 24,
   "metadata": {},
   "outputs": [
    {
     "name": "stdout",
     "output_type": "stream",
     "text": [
      "Test accuracy: 0.9772364497184753\n"
     ]
    }
   ],
   "source": [
    "# Evaluation function\n",
    "def evaluate(dataset):\n",
    "    accuracy_metric = tf.metrics.Accuracy()\n",
    "    for images, labels in dataset:\n",
    "        logits = model(images)\n",
    "        predictions = tf.argmax(logits, axis=1, output_type=tf.int64)\n",
    "        accuracy_metric.update_state(labels, predictions)\n",
    "    return accuracy_metric.result().numpy()\n",
    "\n",
    "# Evaluate the model\n",
    "accuracy = evaluate(test_data)\n",
    "print(f'Test accuracy: {accuracy}')"
   ]
  }
 ],
 "metadata": {
  "kernelspec": {
   "display_name": "Python 3",
   "language": "python",
   "name": "python3"
  },
  "language_info": {
   "codemirror_mode": {
    "name": "ipython",
    "version": 3
   },
   "file_extension": ".py",
   "mimetype": "text/x-python",
   "name": "python",
   "nbconvert_exporter": "python",
   "pygments_lexer": "ipython3",
   "version": "3.11.9"
  }
 },
 "nbformat": 4,
 "nbformat_minor": 2
}
