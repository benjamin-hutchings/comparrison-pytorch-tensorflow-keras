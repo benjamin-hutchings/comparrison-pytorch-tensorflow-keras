{
 "cells": [
  {
   "cell_type": "code",
   "execution_count": 5,
   "metadata": {},
   "outputs": [],
   "source": [
    "from keras.datasets import mnist\n",
    "import matplotlib.image as mpimg\n",
    "import matplotlib.pyplot as plt\n",
    "import os"
   ]
  },
  {
   "cell_type": "code",
   "execution_count": 6,
   "metadata": {},
   "outputs": [],
   "source": [
    "# Load MNIST data\n",
    "(train_images, train_labels), (_, _) = mnist.load_data()"
   ]
  },
  {
   "cell_type": "code",
   "execution_count": 8,
   "metadata": {},
   "outputs": [],
   "source": [
    "# Get the current directory of the notebook\n",
    "current_directory = os.getcwd()\n",
    "\n",
    "# Define the target directory relative to the current directory\n",
    "# Assuming the current directory is where the notebook is located\n",
    "target_directory = os.path.join(current_directory, '..', 'streamlit_app', 'assets', 'mnist_samples')\n",
    "\n",
    "# Make sure the target directory exists\n",
    "os.makedirs(target_directory, exist_ok=True)\n",
    "\n",
    "# Save the first 5 images as PNG files in the specified directory\n",
    "for i in range(5):\n",
    "    image_path = os.path.join(target_directory, f'mnist_sample_{i}.png')\n",
    "    plt.imsave(image_path, train_images[i], cmap='gray')"
   ]
  }
 ],
 "metadata": {
  "kernelspec": {
   "display_name": "Python 3",
   "language": "python",
   "name": "python3"
  },
  "language_info": {
   "codemirror_mode": {
    "name": "ipython",
    "version": 3
   },
   "file_extension": ".py",
   "mimetype": "text/x-python",
   "name": "python",
   "nbconvert_exporter": "python",
   "pygments_lexer": "ipython3",
   "version": "3.11.9"
  }
 },
 "nbformat": 4,
 "nbformat_minor": 2
}
